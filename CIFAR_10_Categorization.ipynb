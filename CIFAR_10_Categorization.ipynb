{
 "cells": [
  {
   "cell_type": "markdown",
   "metadata": {},
   "source": [
    "Code builds and trains CNN to classify images from the CIFAR-10 dataset.\n",
    "\n",
    "Data can be found here:\n",
    "http://www.cs.toronto.edu/~kriz/cifar.html"
   ]
  },
  {
   "cell_type": "code",
   "execution_count": 1,
   "metadata": {},
   "outputs": [],
   "source": [
    "import numpy as np\n",
    "import matplotlib.pyplot as plt"
   ]
  },
  {
   "cell_type": "code",
   "execution_count": 2,
   "metadata": {},
   "outputs": [],
   "source": [
    "#unflatten row to np arrays of red, green, and blue values for each pixel\n",
    "def rgb(array):\n",
    "    temp =[]\n",
    "    count = 0\n",
    "    while count < 1024:\n",
    "        temp.append(array[count])\n",
    "        temp.append(array[(count+1024)])\n",
    "        temp.append(array[(count+2048)])\n",
    "        count += 1\n",
    "    final = np.array(temp)\n",
    "    final = np.reshape(final, (32,32,3))\n",
    "    \n",
    "    return final"
   ]
  },
  {
   "cell_type": "code",
   "execution_count": 3,
   "metadata": {},
   "outputs": [],
   "source": [
    "#unflatten array\n",
    "def ufa(input_array):\n",
    "    output_array = np.empty(shape=(input_array.shape[0],32,32,3))   \n",
    "    count = 0\n",
    "    while count < input_array.shape[0]:\n",
    "        #unflattens every row in the input array\n",
    "        output_array[count] = rgb(input_array[count])\n",
    "        count +=1\n",
    "    return output_array.astype(int)"
   ]
  },
  {
   "cell_type": "code",
   "execution_count": 4,
   "metadata": {},
   "outputs": [],
   "source": [
    "#method to unpickle files\n",
    "def unpickle(file):\n",
    "    import cPickle\n",
    "    with open(file, 'rb') as fo:\n",
    "        dict = cPickle.load(fo)\n",
    "    return dict"
   ]
  },
  {
   "cell_type": "code",
   "execution_count": 5,
   "metadata": {},
   "outputs": [],
   "source": [
    "#unpickle files downloaded from http://www.cs.toronto.edu/~kriz/cifar.html\n",
    "db1 = unpickle('cifar-10-batches-py\\\\data_batch_1')\n",
    "db2 = unpickle('cifar-10-batches-py\\\\data_batch_2')\n",
    "db3 = unpickle('cifar-10-batches-py\\\\data_batch_3')\n",
    "db4 = unpickle('cifar-10-batches-py\\\\data_batch_4')\n",
    "db5 = unpickle('cifar-10-batches-py\\\\data_batch_5')\n",
    "db_test = unpickle('cifar-10-batches-py\\\\test_batch')"
   ]
  },
  {
   "cell_type": "code",
   "execution_count": 6,
   "metadata": {},
   "outputs": [],
   "source": [
    "db_all_labels = np.concatenate([db1['labels'],db2['labels'],db3['labels'],db4['labels'],db5['labels']])\n",
    "\n",
    "#flattened data inputs for most models\n",
    "X_train_flat = np.vstack([db1['data'],db2['data'],db3['data'],db4['data'],db5['data']])\n",
    "X_test_flat=db_test['data']\n",
    "\n",
    "#unflattened data is for CNN model\n",
    "X_train_uf = ufa(X_train_flat)\n",
    "#convert labels to one hot encoding\n",
    "y_train = np.eye(10)[db_all_labels]\n",
    "\n",
    "X_test_uf = ufa(X_test_flat)\n",
    "y_test = np.eye(10)[db_test['labels']]"
   ]
  },
  {
   "cell_type": "code",
   "execution_count": 7,
   "metadata": {},
   "outputs": [
    {
     "data": {
      "image/png": "[encoded data removed]",
      "text/plain": [
       "<Figure size 432x288 with 1 Axes>"
      ]
     },
     "metadata": {
      "needs_background": "light"
     },
     "output_type": "display_data"
    }
   ],
   "source": [
    "#test images for unflattened data\n",
    "plt.imshow(X_train_uf[1]);"
   ]
  },
  {
   "cell_type": "code",
   "execution_count": 8,
   "metadata": {},
   "outputs": [
    {
     "name": "stderr",
     "output_type": "stream",
     "text": [
      "Using Theano backend.\n",
      "WARNING (theano.configdefaults): install mkl with `conda install mkl-service`: No module named mkl\n",
      "WARNING (theano.tensor.blas): Using NumPy C-API based implementation for BLAS functions.\n",
      "C:\\Users\\zacha\\AppData\\Local\\Continuum\\anaconda3\\envs\\py2\\lib\\site-packages\\ipykernel_launcher.py:11: UserWarning: Update your `Conv2D` call to the Keras 2 API: `Conv2D(32, (4, 4), padding=\"valid\", strides=(2, 2), activation=\"relu\", input_shape=(32L, 32L,...)`\n",
      "  # This is added back by InteractiveShellApp.init_path()\n",
      "C:\\Users\\zacha\\AppData\\Local\\Continuum\\anaconda3\\envs\\py2\\lib\\site-packages\\ipykernel_launcher.py:15: UserWarning: Update your `Dense` call to the Keras 2 API: `Dense(100, activation=\"relu\", kernel_regularizer=<keras.reg...)`\n",
      "  from ipykernel import kernelapp as app\n",
      "C:\\Users\\zacha\\AppData\\Local\\Continuum\\anaconda3\\envs\\py2\\lib\\site-packages\\ipykernel_launcher.py:16: UserWarning: Update your `Dense` call to the Keras 2 API: `Dense(100, activation=\"relu\", kernel_regularizer=<keras.reg...)`\n",
      "  app.launch_new_instance()\n"
     ]
    }
   ],
   "source": [
    "#\n",
    "#Build CNN\n",
    "#\n",
    "from keras.models import Sequential\n",
    "from keras.layers import Dense, Dropout, Convolution2D, MaxPooling2D, Flatten\n",
    "from keras.regularizers import l2, l1\n",
    "from keras.optimizers import SGD\n",
    "\n",
    "model = Sequential()\n",
    "model.add(Convolution2D(32, (4,4), strides = (2,2), border_mode='valid', \n",
    "                        input_shape=X_train_uf.shape[1:], activation='relu'))\n",
    "model.add(MaxPooling2D(pool_size=(2, 2)))\n",
    "model.add(Dropout(0.4))\n",
    "model.add(Flatten())\n",
    "model.add(Dense(100, activation='relu',W_regularizer=l2(0.01)))\n",
    "model.add(Dense(100, activation='relu',W_regularizer=l2(0.01)))\n",
    "model.add(Dense(10, activation='softmax'))\n",
    "# Compile model\n",
    "model.compile(loss='categorical_crossentropy', optimizer='adam', metrics=['accuracy'])"
   ]
  },
  {
   "cell_type": "code",
   "execution_count": 9,
   "metadata": {},
   "outputs": [
    {
     "name": "stdout",
     "output_type": "stream",
     "text": [
      "_________________________________________________________________\n",
      "Layer (type)                 Output Shape              Param #   \n",
      "=================================================================\n",
      "conv2d_1 (Conv2D)            (None, 15L, 15L, 32)      1568      \n",
      "_________________________________________________________________\n",
      "max_pooling2d_1 (MaxPooling2 (None, 7L, 7L, 32)        0         \n",
      "_________________________________________________________________\n",
      "dropout_1 (Dropout)          (None, 7L, 7L, 32)        0         \n",
      "_________________________________________________________________\n",
      "flatten_1 (Flatten)          (None, 1568)              0         \n",
      "_________________________________________________________________\n",
      "dense_1 (Dense)              (None, 100)               156900    \n",
      "_________________________________________________________________\n",
      "dense_2 (Dense)              (None, 100)               10100     \n",
      "_________________________________________________________________\n",
      "dense_3 (Dense)              (None, 10)                1010      \n",
      "=================================================================\n",
      "Total params: 169,578\n",
      "Trainable params: 169,578\n",
      "Non-trainable params: 0\n",
      "_________________________________________________________________\n"
     ]
    }
   ],
   "source": [
    "model.summary()"
   ]
  },
  {
   "cell_type": "code",
   "execution_count": 10,
   "metadata": {},
   "outputs": [
    {
     "name": "stderr",
     "output_type": "stream",
     "text": [
      "C:\\Users\\zacha\\AppData\\Local\\Continuum\\anaconda3\\envs\\py2\\lib\\site-packages\\ipykernel_launcher.py:2: UserWarning: The `nb_epoch` argument in `fit` has been renamed `epochs`.\n",
      "  \n"
     ]
    },
    {
     "name": "stdout",
     "output_type": "stream",
     "text": [
      "Train on 50000 samples, validate on 10000 samples\n",
      "Epoch 1/50\n",
      "50000/50000 [==============================] - 14s 280us/step - loss: 9.6326 - acc: 0.1670 - val_loss: 4.3976 - val_acc: 0.1883\n",
      "Epoch 2/50\n",
      "50000/50000 [==============================] - 13s 263us/step - loss: 3.9384 - acc: 0.2877 - val_loss: 3.4271 - val_acc: 0.3964\n",
      "Epoch 3/50\n",
      "50000/50000 [==============================] - 15s 299us/step - loss: 3.2657 - acc: 0.4025 - val_loss: 2.9540 - val_acc: 0.4555\n",
      "Epoch 4/50\n",
      "50000/50000 [==============================] - 14s 289us/step - loss: 2.8705 - acc: 0.4503 - val_loss: 2.6278 - val_acc: 0.4967\n",
      "Epoch 5/50\n",
      "50000/50000 [==============================] - 16s 314us/step - loss: 2.5875 - acc: 0.4803 - val_loss: 2.3806 - val_acc: 0.5225\n",
      "Epoch 6/50\n",
      "50000/50000 [==============================] - 16s 320us/step - loss: 2.3731 - acc: 0.5022 - val_loss: 2.1857 - val_acc: 0.5495\n",
      "Epoch 7/50\n",
      "50000/50000 [==============================] - 15s 308us/step - loss: 2.1902 - acc: 0.5202 - val_loss: 2.0408 - val_acc: 0.5546\n",
      "Epoch 8/50\n",
      "50000/50000 [==============================] - 15s 296us/step - loss: 2.0601 - acc: 0.5327 - val_loss: 1.9366 - val_acc: 0.5656\n",
      "Epoch 9/50\n",
      "50000/50000 [==============================] - 16s 318us/step - loss: 1.9409 - acc: 0.5459 - val_loss: 1.8244 - val_acc: 0.5732\n",
      "Epoch 10/50\n",
      "50000/50000 [==============================] - 16s 328us/step - loss: 1.8386 - acc: 0.5591 - val_loss: 1.7264 - val_acc: 0.5945\n",
      "Epoch 11/50\n",
      "50000/50000 [==============================] - 16s 329us/step - loss: 1.7625 - acc: 0.5690 - val_loss: 1.6688 - val_acc: 0.5941\n",
      "Epoch 12/50\n",
      "50000/50000 [==============================] - 15s 307us/step - loss: 1.6909 - acc: 0.5750 - val_loss: 1.6002 - val_acc: 0.5990\n",
      "Epoch 13/50\n",
      "50000/50000 [==============================] - 14s 286us/step - loss: 1.6236 - acc: 0.5871 - val_loss: 1.5644 - val_acc: 0.6034\n",
      "Epoch 14/50\n",
      "50000/50000 [==============================] - 14s 285us/step - loss: 1.5779 - acc: 0.5892 - val_loss: 1.5219 - val_acc: 0.6031\n",
      "Epoch 15/50\n",
      "50000/50000 [==============================] - 14s 287us/step - loss: 1.5360 - acc: 0.5949 - val_loss: 1.4763 - val_acc: 0.6163\n",
      "Epoch 16/50\n",
      "50000/50000 [==============================] - 15s 299us/step - loss: 1.4849 - acc: 0.6035 - val_loss: 1.4575 - val_acc: 0.6146\n",
      "Epoch 17/50\n",
      "50000/50000 [==============================] - 15s 294us/step - loss: 1.4474 - acc: 0.6086 - val_loss: 1.4265 - val_acc: 0.6126\n",
      "Epoch 18/50\n",
      "50000/50000 [==============================] - 14s 285us/step - loss: 1.4150 - acc: 0.6149 - val_loss: 1.3889 - val_acc: 0.6258\n",
      "Epoch 19/50\n",
      "50000/50000 [==============================] - 14s 279us/step - loss: 1.3866 - acc: 0.6202 - val_loss: 1.3696 - val_acc: 0.6295\n",
      "Epoch 20/50\n",
      "50000/50000 [==============================] - 14s 277us/step - loss: 1.3642 - acc: 0.6236 - val_loss: 1.3392 - val_acc: 0.6409\n",
      "Epoch 21/50\n",
      "50000/50000 [==============================] - 14s 281us/step - loss: 1.3477 - acc: 0.6243 - val_loss: 1.3241 - val_acc: 0.6356\n",
      "Epoch 22/50\n",
      "50000/50000 [==============================] - 14s 285us/step - loss: 1.3256 - acc: 0.6313 - val_loss: 1.3252 - val_acc: 0.6341\n",
      "Epoch 23/50\n",
      "50000/50000 [==============================] - 15s 298us/step - loss: 1.3100 - acc: 0.6345 - val_loss: 1.2844 - val_acc: 0.6465\n",
      "Epoch 24/50\n",
      "50000/50000 [==============================] - 14s 277us/step - loss: 1.2963 - acc: 0.6349 - val_loss: 1.3384 - val_acc: 0.6215\n",
      "Epoch 25/50\n",
      "50000/50000 [==============================] - 14s 274us/step - loss: 1.2743 - acc: 0.6421 - val_loss: 1.2738 - val_acc: 0.6425\n",
      "Epoch 26/50\n",
      "50000/50000 [==============================] - 14s 281us/step - loss: 1.2627 - acc: 0.6445 - val_loss: 1.2673 - val_acc: 0.6471\n",
      "Epoch 27/50\n",
      "50000/50000 [==============================] - 15s 296us/step - loss: 1.2505 - acc: 0.6471 - val_loss: 1.2422 - val_acc: 0.6491\n",
      "Epoch 28/50\n",
      "50000/50000 [==============================] - 15s 293us/step - loss: 1.2278 - acc: 0.6529 - val_loss: 1.2610 - val_acc: 0.6453\n",
      "Epoch 29/50\n",
      "50000/50000 [==============================] - 15s 291us/step - loss: 1.2212 - acc: 0.6541 - val_loss: 1.2313 - val_acc: 0.6490\n",
      "Epoch 30/50\n",
      "50000/50000 [==============================] - 14s 276us/step - loss: 1.2175 - acc: 0.6571 - val_loss: 1.2264 - val_acc: 0.6524\n",
      "Epoch 31/50\n",
      "50000/50000 [==============================] - 14s 278us/step - loss: 1.1968 - acc: 0.6604 - val_loss: 1.2013 - val_acc: 0.6634\n",
      "Epoch 32/50\n",
      "50000/50000 [==============================] - 14s 279us/step - loss: 1.1949 - acc: 0.6600 - val_loss: 1.2184 - val_acc: 0.6581\n",
      "Epoch 33/50\n",
      "50000/50000 [==============================] - 14s 286us/step - loss: 1.1830 - acc: 0.6656 - val_loss: 1.2174 - val_acc: 0.6555\n",
      "Epoch 34/50\n",
      "50000/50000 [==============================] - 15s 297us/step - loss: 1.1691 - acc: 0.6666 - val_loss: 1.1821 - val_acc: 0.6709\n",
      "Epoch 35/50\n",
      "50000/50000 [==============================] - 15s 303us/step - loss: 1.1628 - acc: 0.6710 - val_loss: 1.1848 - val_acc: 0.6703\n",
      "Epoch 36/50\n",
      "50000/50000 [==============================] - 14s 278us/step - loss: 1.1544 - acc: 0.6725 - val_loss: 1.1902 - val_acc: 0.6654\n",
      "Epoch 37/50\n",
      "50000/50000 [==============================] - 14s 278us/step - loss: 1.1447 - acc: 0.6759 - val_loss: 1.1755 - val_acc: 0.6690\n",
      "Epoch 38/50\n",
      "50000/50000 [==============================] - 14s 288us/step - loss: 1.1521 - acc: 0.6728 - val_loss: 1.1799 - val_acc: 0.6709\n",
      "Epoch 39/50\n",
      "50000/50000 [==============================] - 15s 291us/step - loss: 1.1295 - acc: 0.6800 - val_loss: 1.1707 - val_acc: 0.6691\n",
      "Epoch 40/50\n",
      "50000/50000 [==============================] - 15s 292us/step - loss: 1.1294 - acc: 0.6791 - val_loss: 1.1818 - val_acc: 0.6651\n",
      "Epoch 41/50\n",
      "50000/50000 [==============================] - 14s 278us/step - loss: 1.1264 - acc: 0.6789 - val_loss: 1.1730 - val_acc: 0.6702\n",
      "Epoch 42/50\n",
      "50000/50000 [==============================] - 14s 277us/step - loss: 1.1137 - acc: 0.6865 - val_loss: 1.1907 - val_acc: 0.6629\n",
      "Epoch 43/50\n",
      "50000/50000 [==============================] - 14s 283us/step - loss: 1.1102 - acc: 0.6859 - val_loss: 1.1846 - val_acc: 0.6670\n",
      "Epoch 44/50\n",
      "50000/50000 [==============================] - 15s 302us/step - loss: 1.1047 - acc: 0.6883 - val_loss: 1.2093 - val_acc: 0.6537\n",
      "Epoch 45/50\n",
      "50000/50000 [==============================] - 15s 292us/step - loss: 1.1132 - acc: 0.6846 - val_loss: 1.1867 - val_acc: 0.6628\n",
      "Epoch 46/50\n",
      "50000/50000 [==============================] - 14s 281us/step - loss: 1.0967 - acc: 0.6916 - val_loss: 1.1769 - val_acc: 0.6685\n",
      "Epoch 47/50\n",
      "50000/50000 [==============================] - 14s 278us/step - loss: 1.0821 - acc: 0.6960 - val_loss: 1.1415 - val_acc: 0.6804\n",
      "Epoch 48/50\n",
      "50000/50000 [==============================] - 14s 280us/step - loss: 1.0854 - acc: 0.6941 - val_loss: 1.1455 - val_acc: 0.6826\n",
      "Epoch 49/50\n",
      "50000/50000 [==============================] - 14s 284us/step - loss: 1.0899 - acc: 0.6947 - val_loss: 1.1573 - val_acc: 0.6789\n",
      "Epoch 50/50\n",
      "50000/50000 [==============================] - 15s 291us/step - loss: 1.0816 - acc: 0.6982 - val_loss: 1.1722 - val_acc: 0.6671\n"
     ]
    }
   ],
   "source": [
    "history = model.fit(X_train_uf, y_train, batch_size = 1000,\n",
    "          nb_epoch = 50, verbose=1, validation_data=(X_test_uf,y_test))"
   ]
  },
  {
   "cell_type": "code",
   "execution_count": 11,
   "metadata": {},
   "outputs": [
    {
     "name": "stdout",
     "output_type": "stream",
     "text": [
      "Loss after final iteration:  1.17216006517\n"
     ]
    },
    {
     "data": {
      "image/png": "[encoded data removed]",
      "text/plain": [
       "<Figure size 432x288 with 1 Axes>"
      ]
     },
     "metadata": {
      "needs_background": "light"
     },
     "output_type": "display_data"
    }
   ],
   "source": [
    "%matplotlib inline\n",
    "import matplotlib.pyplot as plt\n",
    "fig = plt.figure(figsize=(6,4))\n",
    "# # summarize history for loss\n",
    "plt.plot(history.history['loss'])\n",
    "plt.plot(history.history['val_loss'], 'g--')\n",
    "plt.title('CNN Model Loss')\n",
    "plt.ylabel('categorical_crossentropy')\n",
    "plt.xlabel('Epoch')\n",
    "plt.legend(['Training Loss', 'Testing Loss'], loc='upper right')\n",
    "print \"Loss after final iteration: \", history.history['val_loss'][-1]\n",
    "plt.show()"
   ]
  },
  {
   "cell_type": "code",
   "execution_count": 12,
   "metadata": {},
   "outputs": [],
   "source": [
    "#Converts one hot encoding to class\n",
    "def ohe_to_class(r):\n",
    "    return[np.argmax(c) for c in r]"
   ]
  },
  {
   "cell_type": "code",
   "execution_count": 13,
   "metadata": {},
   "outputs": [
    {
     "name": "stdout",
     "output_type": "stream",
     "text": [
      "('accuracy', 0.66710000000000003)\n",
      "confusion_matrix\n",
      "[[625  11  47  11  14   6   1  11  41  18]\n",
      " [ 31 800   7   9   0   2   8  10  56 111]\n",
      " [ 56   3 482  35  50  34  24  24   7   8]\n",
      " [ 32  15  61 485  63 150  46  64  21  36]\n",
      " [ 50   6 116  76 657  68  53  82  17  10]\n",
      " [ 15   8 132 256  76 652  43 151   6  23]\n",
      " [ 18  14  96  69  72  40 811  16   8   9]\n",
      " [  5   1  17  20  49  25   3 621   6  13]\n",
      " [117  34  21  16  13  12   6   2 802  36]\n",
      " [ 51 108  21  23   6  11   5  19  36 736]]\n",
      "classification_report\n",
      "\n",
      "              precision    recall  f1-score   support\n",
      "\n",
      "           0       0.62      0.80      0.70       785\n",
      "           1       0.80      0.77      0.79      1034\n",
      "           2       0.48      0.67      0.56       723\n",
      "           3       0.48      0.50      0.49       973\n",
      "           4       0.66      0.58      0.62      1135\n",
      "           5       0.65      0.48      0.55      1362\n",
      "           6       0.81      0.70      0.75      1153\n",
      "           7       0.62      0.82      0.71       760\n",
      "           8       0.80      0.76      0.78      1059\n",
      "           9       0.74      0.72      0.73      1016\n",
      "\n",
      "   micro avg       0.67      0.67      0.67     10000\n",
      "   macro avg       0.67      0.68      0.67     10000\n",
      "weighted avg       0.68      0.67      0.67     10000\n",
      "\n"
     ]
    }
   ],
   "source": [
    "#\n",
    "#Print confusion matrix and classification report for the model. \n",
    "#\n",
    "\n",
    "from sklearn.metrics import classification_report, f1_score, accuracy_score, confusion_matrix\n",
    "\n",
    "predict_all = model.predict_classes(np.array(X_test_uf))\n",
    "\n",
    "y_true_class = ohe_to_class(y_test)\n",
    "\n",
    "print('accuracy', accuracy_score(predict_all, y_true_class))\n",
    "\n",
    "print('confusion_matrix')\n",
    "print(confusion_matrix(predict_all, y_true_class))\n",
    "print('classification_report\\n\\n'+classification_report(predict_all, y_true_class))\n"
   ]
  },
  {
   "cell_type": "code",
   "execution_count": null,
   "metadata": {},
   "outputs": [],
   "source": []
  },
  {
   "cell_type": "code",
   "execution_count": null,
   "metadata": {},
   "outputs": [],
   "source": []
  }
 ],
 "metadata": {
  "kernelspec": {
   "display_name": "Python 2",
   "language": "python",
   "name": "py2"
  },
  "language_info": {
   "codemirror_mode": {
    "name": "ipython",
    "version": 2
   },
   "file_extension": ".py",
   "mimetype": "text/x-python",
   "name": "python",
   "nbconvert_exporter": "python",
   "pygments_lexer": "ipython2",
   "version": "2.7.16"
  }
 },
 "nbformat": 4,
 "nbformat_minor": 2
}
