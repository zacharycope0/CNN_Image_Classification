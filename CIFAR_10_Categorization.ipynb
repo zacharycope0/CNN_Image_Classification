{
 "cells": [
  {
   "cell_type": "markdown",
   "metadata": {},
   "source": [
    "Code builds and trains CNN to classify images from the CIFAR-10 dataset.\n",
    "\n",
    "Data can be found here:\n",
    "http://www.cs.toronto.edu/~kriz/cifar.html"
   ]
  },
  {
   "cell_type": "code",
   "execution_count": 1,
   "metadata": {},
   "outputs": [],
   "source": [
    "import numpy as np\n",
    "import matplotlib.pyplot as plt"
   ]
  },
  {
   "cell_type": "code",
   "execution_count": 2,
   "metadata": {},
   "outputs": [],
   "source": [
    "#unflatten row to np arrays of red, green, and blue values for each pixel\n",
    "def rgb(array):\n",
    "    temp =[]\n",
    "    count = 0\n",
    "    while count < 1024:\n",
    "        temp.append(array[count])\n",
    "        temp.append(array[(count+1024)])\n",
    "        temp.append(array[(count+2048)])\n",
    "        count += 1\n",
    "    final = np.array(temp)\n",
    "    final = np.reshape(final, (32,32,3))\n",
    "    \n",
    "    return final"
   ]
  },
  {
   "cell_type": "code",
   "execution_count": 3,
   "metadata": {},
   "outputs": [],
   "source": [
    "#unflatten array\n",
    "def ufa(input_array):\n",
    "    output_array = np.empty(shape=(input_array.shape[0],32,32,3))   \n",
    "    count = 0\n",
    "    while count < input_array.shape[0]:\n",
    "        #unflattens every row in the input array\n",
    "        output_array[count] = rgb(input_array[count])\n",
    "        count +=1\n",
    "    return output_array.astype(int)"
   ]
  },
  {
   "cell_type": "code",
   "execution_count": 4,
   "metadata": {},
   "outputs": [],
   "source": [
    "#method to unpickle files\n",
    "def unpickle(file):\n",
    "    import cPickle\n",
    "    with open(file, 'rb') as fo:\n",
    "        dict = cPickle.load(fo)\n",
    "    return dict"
   ]
  },
  {
   "cell_type": "code",
   "execution_count": 5,
   "metadata": {},
   "outputs": [],
   "source": [
    "#unpickle files downloaded from http://www.cs.toronto.edu/~kriz/cifar.html\n",
    "db1 = unpickle('data_batch_1')\n",
    "db2 = unpickle('data_batch_2')\n",
    "db3 = unpickle('data_batch_3')\n",
    "db4 = unpickle('data_batch_4')\n",
    "db5 = unpickle('data_batch_5')\n",
    "db_test = unpickle('test_batch')"
   ]
  },
  {
   "cell_type": "code",
   "execution_count": 6,
   "metadata": {},
   "outputs": [],
   "source": [
    "db_all_labels = np.concatenate([db1['labels'],db2['labels'],db3['labels'],db4['labels'],db5['labels']])\n",
    "\n",
    "#flattened data inputs for most models\n",
    "X_train_flat = np.vstack([db1['data'],db2['data'],db3['data'],db4['data'],db5['data']])\n",
    "X_test_flat=db_test['data']\n",
    "\n",
    "#unflattened data is for CNN model\n",
    "X_train_uf = ufa(X_train_flat)\n",
    "#convert labels to one hot encoding\n",
    "y_train = np.eye(10)[db_all_labels]\n",
    "\n",
    "X_test_uf = ufa(X_test_flat)\n",
    "y_test = np.eye(10)[db_test['labels']]"
   ]
  },
  {
   "cell_type": "code",
   "execution_count": 36,
   "metadata": {},
   "outputs": [
    {
     "data": {
      "image/png": "[encoded data removed]",
      "text/plain": [
       "<Figure size 432x288 with 1 Axes>"
      ]
     },
     "metadata": {
      "needs_background": "light"
     },
     "output_type": "display_data"
    }
   ],
   "source": [
    "#test images for unflattened data\n",
    "plt.imshow(X_train_uf[1]);"
   ]
  },
  {
   "cell_type": "code",
   "execution_count": 51,
   "metadata": {},
   "outputs": [
    {
     "name": "stderr",
     "output_type": "stream",
     "text": [
      "C:\\Users\\zacha\\AppData\\Local\\Continuum\\anaconda3\\envs\\py2\\lib\\site-packages\\ipykernel_launcher.py:9: UserWarning: Update your `Conv2D` call to the Keras 2 API: `Conv2D(32, (4, 4), padding=\"valid\", strides=(2, 2), activation=\"relu\", input_shape=(32L, 32L,...)`\n",
      "  if __name__ == '__main__':\n",
      "C:\\Users\\zacha\\AppData\\Local\\Continuum\\anaconda3\\envs\\py2\\lib\\site-packages\\ipykernel_launcher.py:13: UserWarning: Update your `Dense` call to the Keras 2 API: `Dense(100, activation=\"relu\", kernel_regularizer=<keras.reg...)`\n",
      "  del sys.path[0]\n",
      "C:\\Users\\zacha\\AppData\\Local\\Continuum\\anaconda3\\envs\\py2\\lib\\site-packages\\ipykernel_launcher.py:14: UserWarning: Update your `Dense` call to the Keras 2 API: `Dense(100, activation=\"relu\", kernel_regularizer=<keras.reg...)`\n",
      "  \n"
     ]
    },
    {
     "data": {
      "text/plain": [
       "\"\\nfrom keras.models import Sequential\\nfrom keras.layers import Dense, Dropout, Activation, Flatten, Conv2D\\nfrom keras.regularizers import l2, l1\\nfrom keras.optimizers import SGD\\nmodel = Sequential()\\n\\n\\n# Create layers:\\nmodel.add(Conv2D(32, (3, 3), padding='same',\\n                 input_shape=X_train_uf.shape[1:])\\n\\n# Compile model\\nsgd = SGD(lr=0.1)\\nmodel.compile(loss='categorical_crossentropy', optimizer=sgd)\\n\\nmodel.summary()\\n\\n# Fit the model - I think we need to use model.fit_generator here, but I don't \\n# really understand why.\\n#history = model.fit(X_train, y_train, batch_size = 32,\\n#          nb_epoch = 100, verbose=1, validation_data=(X_test,y_test))\\n\""
      ]
     },
     "execution_count": 51,
     "metadata": {},
     "output_type": "execute_result"
    }
   ],
   "source": [
    "#\n",
    "#Build CNN\n",
    "#\n",
    "from keras.models import Sequential\n",
    "from keras.layers import Dense, Dropout, Convolution2D, MaxPooling2D, Flatten\n",
    "from keras.regularizers import l2, l1\n",
    "from keras.optimizers import SGD\n",
    "\n",
    "model = Sequential()\n",
    "model.add(Convolution2D(32, (4,4), strides = (2,2), border_mode='valid', \n",
    "                        input_shape=X_train_uf.shape[1:], activation='relu'))\n",
    "model.add(MaxPooling2D(pool_size=(2, 2)))\n",
    "model.add(Dropout(0.4))\n",
    "model.add(Flatten())\n",
    "model.add(Dense(100, activation='relu',W_regularizer=l2(0.01)))\n",
    "model.add(Dense(100, activation='relu',W_regularizer=l2(0.01)))\n",
    "model.add(Dense(10, activation='softmax'))\n",
    "# Compile model\n",
    "model.compile(loss='categorical_crossentropy', optimizer='adam', metrics=['accuracy'])"
   ]
  },
  {
   "cell_type": "code",
   "execution_count": 52,
   "metadata": {},
   "outputs": [
    {
     "name": "stdout",
     "output_type": "stream",
     "text": [
      "_________________________________________________________________\n",
      "Layer (type)                 Output Shape              Param #   \n",
      "=================================================================\n",
      "conv2d_10 (Conv2D)           (None, 15L, 15L, 32)      1568      \n",
      "_________________________________________________________________\n",
      "max_pooling2d_10 (MaxPooling (None, 7L, 7L, 32)        0         \n",
      "_________________________________________________________________\n",
      "dropout_10 (Dropout)         (None, 7L, 7L, 32)        0         \n",
      "_________________________________________________________________\n",
      "flatten_10 (Flatten)         (None, 1568)              0         \n",
      "_________________________________________________________________\n",
      "dense_19 (Dense)             (None, 100)               156900    \n",
      "_________________________________________________________________\n",
      "dense_20 (Dense)             (None, 100)               10100     \n",
      "_________________________________________________________________\n",
      "dense_21 (Dense)             (None, 10)                1010      \n",
      "=================================================================\n",
      "Total params: 169,578\n",
      "Trainable params: 169,578\n",
      "Non-trainable params: 0\n",
      "_________________________________________________________________\n"
     ]
    }
   ],
   "source": [
    "model.summary()"
   ]
  },
  {
   "cell_type": "code",
   "execution_count": 53,
   "metadata": {},
   "outputs": [
    {
     "name": "stderr",
     "output_type": "stream",
     "text": [
      "C:\\Users\\zacha\\AppData\\Local\\Continuum\\anaconda3\\envs\\py2\\lib\\site-packages\\ipykernel_launcher.py:2: UserWarning: The `nb_epoch` argument in `fit` has been renamed `epochs`.\n",
      "  \n"
     ]
    },
    {
     "name": "stdout",
     "output_type": "stream",
     "text": [
      "Train on 50000 samples, validate on 10000 samples\n",
      "Epoch 1/50\n",
      "50000/50000 [==============================] - 13s 266us/step - loss: 9.0582 - acc: 0.1521 - val_loss: 4.0729 - val_acc: 0.2290\n",
      "Epoch 2/50\n",
      "50000/50000 [==============================] - 13s 263us/step - loss: 3.6654 - acc: 0.3055 - val_loss: 3.2249 - val_acc: 0.3940\n",
      "Epoch 3/50\n",
      "50000/50000 [==============================] - 13s 264us/step - loss: 3.1006 - acc: 0.3864 - val_loss: 2.7713 - val_acc: 0.4575\n",
      "Epoch 4/50\n",
      "50000/50000 [==============================] - 13s 266us/step - loss: 2.7238 - acc: 0.4389 - val_loss: 2.4733 - val_acc: 0.4848\n",
      "Epoch 5/50\n",
      "50000/50000 [==============================] - 14s 271us/step - loss: 2.4376 - acc: 0.4806 - val_loss: 2.2248 - val_acc: 0.5280\n",
      "Epoch 6/50\n",
      "50000/50000 [==============================] - 14s 274us/step - loss: 2.2137 - acc: 0.5098 - val_loss: 2.0499 - val_acc: 0.5485\n",
      "Epoch 7/50\n",
      "50000/50000 [==============================] - 14s 275us/step - loss: 2.0535 - acc: 0.5248 - val_loss: 1.9242 - val_acc: 0.5604\n",
      "Epoch 8/50\n",
      "50000/50000 [==============================] - 14s 272us/step - loss: 1.9144 - acc: 0.5417 - val_loss: 1.8061 - val_acc: 0.5710\n",
      "Epoch 9/50\n",
      "50000/50000 [==============================] - 14s 278us/step - loss: 1.8122 - acc: 0.5524 - val_loss: 1.7321 - val_acc: 0.5715\n",
      "Epoch 10/50\n",
      "50000/50000 [==============================] - 14s 275us/step - loss: 1.7271 - acc: 0.5601 - val_loss: 1.6355 - val_acc: 0.5849\n",
      "Epoch 11/50\n",
      "50000/50000 [==============================] - 14s 278us/step - loss: 1.6433 - acc: 0.5739 - val_loss: 1.5611 - val_acc: 0.6027\n",
      "Epoch 12/50\n",
      "50000/50000 [==============================] - 14s 280us/step - loss: 1.5824 - acc: 0.5830 - val_loss: 1.5427 - val_acc: 0.5944\n",
      "Epoch 13/50\n",
      "50000/50000 [==============================] - 14s 279us/step - loss: 1.5392 - acc: 0.5862 - val_loss: 1.4799 - val_acc: 0.6075\n",
      "Epoch 14/50\n",
      "50000/50000 [==============================] - 14s 278us/step - loss: 1.5028 - acc: 0.5927 - val_loss: 1.4558 - val_acc: 0.6061\n",
      "Epoch 15/50\n",
      "50000/50000 [==============================] - 14s 278us/step - loss: 1.4556 - acc: 0.6005 - val_loss: 1.4202 - val_acc: 0.6098\n",
      "Epoch 16/50\n",
      "50000/50000 [==============================] - 14s 278us/step - loss: 1.4214 - acc: 0.6055 - val_loss: 1.4021 - val_acc: 0.6153\n",
      "Epoch 17/50\n",
      "50000/50000 [==============================] - 14s 281us/step - loss: 1.3972 - acc: 0.6074 - val_loss: 1.3841 - val_acc: 0.6170\n",
      "Epoch 18/50\n",
      "50000/50000 [==============================] - 14s 279us/step - loss: 1.3655 - acc: 0.6167 - val_loss: 1.3388 - val_acc: 0.6261\n",
      "Epoch 19/50\n",
      "50000/50000 [==============================] - 14s 283us/step - loss: 1.3388 - acc: 0.6211 - val_loss: 1.3180 - val_acc: 0.6267\n",
      "Epoch 20/50\n",
      "50000/50000 [==============================] - 14s 277us/step - loss: 1.3192 - acc: 0.6252 - val_loss: 1.2990 - val_acc: 0.6325\n",
      "Epoch 21/50\n",
      "50000/50000 [==============================] - 14s 281us/step - loss: 1.3104 - acc: 0.6261 - val_loss: 1.3042 - val_acc: 0.6287\n",
      "Epoch 22/50\n",
      "50000/50000 [==============================] - 14s 280us/step - loss: 1.2861 - acc: 0.6327 - val_loss: 1.2939 - val_acc: 0.6282\n",
      "Epoch 23/50\n",
      "50000/50000 [==============================] - 14s 285us/step - loss: 1.2646 - acc: 0.6374 - val_loss: 1.2807 - val_acc: 0.6301\n",
      "Epoch 24/50\n",
      "50000/50000 [==============================] - 14s 282us/step - loss: 1.2504 - acc: 0.6438 - val_loss: 1.2682 - val_acc: 0.6407\n",
      "Epoch 25/50\n",
      "50000/50000 [==============================] - 14s 286us/step - loss: 1.2369 - acc: 0.6455 - val_loss: 1.2853 - val_acc: 0.6281\n",
      "Epoch 26/50\n",
      "50000/50000 [==============================] - 14s 281us/step - loss: 1.2355 - acc: 0.6440 - val_loss: 1.2652 - val_acc: 0.6357\n",
      "Epoch 27/50\n",
      "50000/50000 [==============================] - 14s 282us/step - loss: 1.2158 - acc: 0.6497 - val_loss: 1.2342 - val_acc: 0.6440\n",
      "Epoch 28/50\n",
      "50000/50000 [==============================] - 14s 285us/step - loss: 1.2243 - acc: 0.6494 - val_loss: 1.2372 - val_acc: 0.6465\n",
      "Epoch 29/50\n",
      "50000/50000 [==============================] - 14s 289us/step - loss: 1.2003 - acc: 0.6562 - val_loss: 1.2502 - val_acc: 0.6382\n",
      "Epoch 30/50\n",
      "50000/50000 [==============================] - 15s 298us/step - loss: 1.1961 - acc: 0.6554 - val_loss: 1.2257 - val_acc: 0.6478\n",
      "Epoch 31/50\n",
      "50000/50000 [==============================] - 14s 287us/step - loss: 1.1799 - acc: 0.6642 - val_loss: 1.2074 - val_acc: 0.6567\n",
      "Epoch 32/50\n",
      "50000/50000 [==============================] - 15s 291us/step - loss: 1.1809 - acc: 0.6616 - val_loss: 1.2084 - val_acc: 0.6571\n",
      "Epoch 33/50\n",
      "50000/50000 [==============================] - 14s 286us/step - loss: 1.1738 - acc: 0.6620 - val_loss: 1.2083 - val_acc: 0.6529\n",
      "Epoch 34/50\n",
      "50000/50000 [==============================] - 15s 295us/step - loss: 1.1706 - acc: 0.6646 - val_loss: 1.1983 - val_acc: 0.6571\n",
      "Epoch 35/50\n",
      "50000/50000 [==============================] - 14s 289us/step - loss: 1.1553 - acc: 0.6699 - val_loss: 1.2141 - val_acc: 0.6540\n",
      "Epoch 36/50\n",
      "50000/50000 [==============================] - 14s 288us/step - loss: 1.1543 - acc: 0.6695 - val_loss: 1.2048 - val_acc: 0.6567\n",
      "Epoch 37/50\n",
      "50000/50000 [==============================] - 15s 296us/step - loss: 1.1486 - acc: 0.6716 - val_loss: 1.2040 - val_acc: 0.6535\n",
      "Epoch 38/50\n",
      "50000/50000 [==============================] - 15s 293us/step - loss: 1.1427 - acc: 0.6735 - val_loss: 1.2211 - val_acc: 0.6472\n",
      "Epoch 39/50\n",
      "50000/50000 [==============================] - 15s 296us/step - loss: 1.1457 - acc: 0.6714 - val_loss: 1.2045 - val_acc: 0.6608\n",
      "Epoch 40/50\n",
      "50000/50000 [==============================] - 14s 286us/step - loss: 1.1348 - acc: 0.6758 - val_loss: 1.2050 - val_acc: 0.6601\n",
      "Epoch 41/50\n",
      "50000/50000 [==============================] - 15s 295us/step - loss: 1.1310 - acc: 0.6801 - val_loss: 1.2230 - val_acc: 0.6504\n",
      "Epoch 42/50\n",
      "50000/50000 [==============================] - 15s 295us/step - loss: 1.1264 - acc: 0.6789 - val_loss: 1.1993 - val_acc: 0.6608\n",
      "Epoch 43/50\n",
      "50000/50000 [==============================] - 15s 291us/step - loss: 1.1153 - acc: 0.6832 - val_loss: 1.1886 - val_acc: 0.6594\n",
      "Epoch 44/50\n",
      "50000/50000 [==============================] - 14s 290us/step - loss: 1.1177 - acc: 0.6832 - val_loss: 1.1969 - val_acc: 0.6609\n",
      "Epoch 45/50\n",
      "50000/50000 [==============================] - 15s 294us/step - loss: 1.1167 - acc: 0.6847 - val_loss: 1.2040 - val_acc: 0.6592\n",
      "Epoch 46/50\n",
      "50000/50000 [==============================] - 15s 296us/step - loss: 1.1133 - acc: 0.6843 - val_loss: 1.1766 - val_acc: 0.6702\n",
      "Epoch 47/50\n",
      "50000/50000 [==============================] - 15s 293us/step - loss: 1.1037 - acc: 0.6888 - val_loss: 1.2038 - val_acc: 0.6556\n",
      "Epoch 48/50\n",
      "50000/50000 [==============================] - 15s 296us/step - loss: 1.1063 - acc: 0.6867 - val_loss: 1.1506 - val_acc: 0.6763\n",
      "Epoch 49/50\n",
      "50000/50000 [==============================] - 15s 291us/step - loss: 1.0962 - acc: 0.6933 - val_loss: 1.2007 - val_acc: 0.6590\n",
      "Epoch 50/50\n",
      "50000/50000 [==============================] - 15s 297us/step - loss: 1.0965 - acc: 0.6941 - val_loss: 1.1762 - val_acc: 0.6666\n"
     ]
    }
   ],
   "source": [
    "history = model.fit(X_train_uf, y_train, batch_size = 1000,\n",
    "          nb_epoch = 50, verbose=1, validation_data=(X_test_uf,y_test))"
   ]
  },
  {
   "cell_type": "code",
   "execution_count": 54,
   "metadata": {},
   "outputs": [
    {
     "name": "stdout",
     "output_type": "stream",
     "text": [
      "Loss after final iteration:  1.17622271776\n"
     ]
    },
    {
     "data": {
      "image/png": "[encoded data removed]",
      "text/plain": [
       "<Figure size 432x288 with 1 Axes>"
      ]
     },
     "metadata": {
      "needs_background": "light"
     },
     "output_type": "display_data"
    }
   ],
   "source": [
    "%matplotlib inline\n",
    "import matplotlib.pyplot as plt\n",
    "fig = plt.figure(figsize=(6,4))\n",
    "# # summarize history for loss\n",
    "plt.plot(history.history['loss'])\n",
    "plt.plot(history.history['val_loss'], 'g--')\n",
    "plt.title('CNN Model Loss')\n",
    "plt.ylabel('categorical_crossentropy')\n",
    "plt.xlabel('Epoch')\n",
    "plt.legend(['Training Loss', 'Testing Loss'], loc='upper right')\n",
    "print \"Loss after final iteration: \", history.history['val_loss'][-1]\n",
    "plt.show()"
   ]
  },
  {
   "cell_type": "code",
   "execution_count": 55,
   "metadata": {},
   "outputs": [],
   "source": [
    "#Converts one hot encoding to class\n",
    "def ohe_to_class(r):\n",
    "    return[np.argmax(c) for c in r]"
   ]
  },
  {
   "cell_type": "code",
   "execution_count": 56,
   "metadata": {},
   "outputs": [
    {
     "name": "stdout",
     "output_type": "stream",
     "text": [
      "('accuracy', 0.66659999999999997)\n",
      "confusion_matrix\n",
      "[[735  17  70  26  28  18   6  15  71  43]\n",
      " [ 19 813   9  20   5   6   7   7  40 132]\n",
      " [ 35   6 439  53  32  39  15  28   9   7]\n",
      " [ 18   5  49 418  35 181  28  37  11  10]\n",
      " [ 31   6 174 128 714 123  59 100  12  10]\n",
      " [  1   5  55 112  20 444  15  33   4   6]\n",
      " [ 18  16 120 125  93  82 852  27  16  18]\n",
      " [ 11   2  44  49  56  72   3 737   3  21]\n",
      " [ 94  42  24  35  13  18   8   6 807  46]\n",
      " [ 38  88  16  34   4  17   7  10  27 707]]\n",
      "classification_report\n",
      "\n",
      "              precision    recall  f1-score   support\n",
      "\n",
      "           0       0.73      0.71      0.72      1029\n",
      "           1       0.81      0.77      0.79      1058\n",
      "           2       0.44      0.66      0.53       663\n",
      "           3       0.42      0.53      0.47       792\n",
      "           4       0.71      0.53      0.61      1357\n",
      "           5       0.44      0.64      0.52       695\n",
      "           6       0.85      0.62      0.72      1367\n",
      "           7       0.74      0.74      0.74       998\n",
      "           8       0.81      0.74      0.77      1093\n",
      "           9       0.71      0.75      0.73       948\n",
      "\n",
      "   micro avg       0.67      0.67      0.67     10000\n",
      "   macro avg       0.67      0.67      0.66     10000\n",
      "weighted avg       0.70      0.67      0.67     10000\n",
      "\n"
     ]
    }
   ],
   "source": [
    "#\n",
    "#Print confusion matrix and classification report for the model. \n",
    "#\n",
    "\n",
    "from sklearn.metrics import classification_report, f1_score, accuracy_score, confusion_matrix\n",
    "\n",
    "predict_all = model.predict_classes(np.array(X_test_uf))\n",
    "\n",
    "y_true_class = ohe_to_class(y_test)\n",
    "\n",
    "print('accuracy', accuracy_score(predict_all, y_true_class))\n",
    "\n",
    "print('confusion_matrix')\n",
    "print(confusion_matrix(predict_all, y_true_class))\n",
    "print('classification_report\\n\\n'+classification_report(predict_all, y_true_class))\n"
   ]
  },
  {
   "cell_type": "code",
   "execution_count": null,
   "metadata": {},
   "outputs": [],
   "source": []
  }
 ],
 "metadata": {
  "kernelspec": {
   "display_name": "Python 2",
   "language": "python",
   "name": "py2"
  },
  "language_info": {
   "codemirror_mode": {
    "name": "ipython",
    "version": 2
   },
   "file_extension": ".py",
   "mimetype": "text/x-python",
   "name": "python",
   "nbconvert_exporter": "python",
   "pygments_lexer": "ipython2",
   "version": "2.7.16"
  }
 },
 "nbformat": 4,
 "nbformat_minor": 2
}
